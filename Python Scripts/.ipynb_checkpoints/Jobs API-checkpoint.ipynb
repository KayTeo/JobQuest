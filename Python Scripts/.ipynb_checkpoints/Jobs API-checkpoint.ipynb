{
 "cells": [
  {
   "cell_type": "markdown",
   "id": "4390a5f1",
   "metadata": {},
   "source": [
    "Job API Scraper"
   ]
  },
  {
   "cell_type": "code",
   "execution_count": null,
   "id": "91e9f133",
   "metadata": {},
   "outputs": [],
   "source": [
    "#Run first time you use code/do not have selenium installed\n",
    "pip install selenium"
   ]
  },
  {
   "cell_type": "code",
   "execution_count": 2,
   "id": "31237b5f-2597-4176-906c-338542b8e396",
   "metadata": {},
   "outputs": [],
   "source": [
    "#Run to import necessary libraries\n",
    "import requests\n",
    "from selenium import webdriver\n",
    "from selenium.webdriver.common.by import By \n",
    "from selenium.webdriver.chrome.service import Service as ChromeService\n",
    "from webdriver_manager.chrome import ChromeDriverManager"
   ]
  },
  {
   "cell_type": "code",
   "execution_count": 3,
   "id": "bf0ce5dc",
   "metadata": {},
   "outputs": [],
   "source": [
    "#Retrieves the links to job cards given a search URL\n",
    "#Takes a valid url of list of searched jobs and driver, a selenium webdriver object\n",
    "def getCardLinks(url, driver):\n",
    "    driver.get(url)\n",
    "    elements = driver.find_elements(By.XPATH, \"//*[contains(@data-testid, 'job-card-link')]\")\n",
    "    links = []\n",
    "\n",
    "    #Note: Each search page contains 20 entries\n",
    "    for title in elements: \n",
    "        links.append(title.get_attribute('href'))\n",
    "    return links"
   ]
  },
  {
   "cell_type": "code",
   "execution_count": 4,
   "id": "9ad41d15",
   "metadata": {},
   "outputs": [],
   "source": [
    "#Returns the job data in JSON format from a card URL\n",
    "#Takes a valid url of a single job and driver, a selenium webdriver object\n",
    "def getCardJSON(cardURL, driver):\n",
    "    driver.get(cardURL)\n",
    "    elements2 = driver.find_element(By.XPATH, \"//*[contains(@type, 'application/ld+json')]\")\n",
    "    return elements2.get_attribute('innerHTML')"
   ]
  },
  {
   "cell_type": "code",
   "execution_count": 18,
   "id": "379c0522",
   "metadata": {},
   "outputs": [],
   "source": [
    "#Overall function to return results of a single search\n",
    "#filename parameter is the file the data will be appended to in JSON format. If file does not exist, it will be created.\n",
    "#keywords is the search terms\n",
    "#salary indicates salary range of job contains salary value\n",
    "#employment must be one of following values: Permanent, Full Time, Part Time, Contract, Flexi-Work, Temporary, Freelance, Internship/Attachment\n",
    "#page returns the nth page of the search results\n",
    "def getJobData(filename, keywords = \"\", employmentType = \"\", salary = \"\", startPage = 0, pages = 5):\n",
    "    \n",
    "    #Driver initialises the browser\n",
    "    #Browser required as target site dynamically loads search and job data\n",
    "    driver = webdriver.Chrome(service = ChromeService(ChromeDriverManager().install()))\n",
    "    \n",
    "    #Generate URL\n",
    "    links = []\n",
    "    \n",
    "    for i in range(startPage, startPage + pages - 1):\n",
    "        targetURL = \"https://www.mycareersfuture.gov.sg/search?search=\" + keywords + \"&salary=\" + salary + \"&employmentType=\" + employmentType + \"&sortBy=relevancy&page=\" + str(i)\n",
    "        links += getCardLinks(targetURL, driver)\n",
    "    \n",
    "    f = open(filename, \"a\")\n",
    "\n",
    "    #Note: Each search page contains 20 entries\n",
    "    for link in links:\n",
    "        data = getCardJSON(link, driver)\n",
    "        with open(filename, 'a', encoding='utf8') as f:\n",
    "            f.write(data)\n",
    "            \n",
    "            #Delimiter for next record for reading purposes\n",
    "            f.write('\\n\\r')\n",
    "    f.close()\n",
    "    driver.close"
   ]
  },
  {
   "cell_type": "code",
   "execution_count": 20,
   "id": "c747956e",
   "metadata": {},
   "outputs": [],
   "source": [
    "getJobData(filename = \"test3.txt\", keywords = \"tech\", pages = 2)"
   ]
  },
  {
   "cell_type": "code",
   "execution_count": null,
   "id": "e7712827",
   "metadata": {},
   "outputs": [],
   "source": []
  }
 ],
 "metadata": {
  "kernelspec": {
   "display_name": "Python 3 (ipykernel)",
   "language": "python",
   "name": "python3"
  },
  "language_info": {
   "codemirror_mode": {
    "name": "ipython",
    "version": 3
   },
   "file_extension": ".py",
   "mimetype": "text/x-python",
   "name": "python",
   "nbconvert_exporter": "python",
   "pygments_lexer": "ipython3",
   "version": "3.10.5"
  }
 },
 "nbformat": 4,
 "nbformat_minor": 5
}
